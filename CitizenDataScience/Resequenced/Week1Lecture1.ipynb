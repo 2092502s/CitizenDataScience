{
 "cells": [
  {
   "cell_type": "markdown",
   "metadata": {},
   "source": [
    "\n",
    "# A world made up of kinds: Statistical variables\n",
    "\n",
    "To see the world in the way a data scientist sees it requires you to put on a new pair of spectacles. Through these spectacles, any characteristic you are interested in - whether that be height, petal width, loudness, sadness, sex or the number of piano tuners in Ireland - is a **variable**. Sometimes these are better known as **attributes**.\n",
    "\n",
    "Think of a variable as a set of potential values. Height, width and loudness are physical and numerical, **continuous** variable that may take up infinitely many values while sadness may be measured on a scale of 1 to 5 (it is **discrete**). Sex is not numerical but **categorical** - either \"male\" or \"female\" - but the number of piano tuners is, since it can be any integer above 0.\n",
    "\n",
    "### Look around you and choose 5 characteristics. What kind of variables are they? Numerical or categorical? Discrete or continuous? \n",
    "\n",
    "When programming with Python, whenever we bring a new quantity into play and store that into memory, we call the label of that value a **variable** too, since it may later on take on a new value. So for example, we may write *nr_of_piano_tuners = 87*. \n",
    "\n",
    "Whenever we speak of variables, we probably mean the statistical kind, but there is one distinction important to keep in mind when working with variables in Python. Whenever we work with categorical variables, we need to store them as **strings**, by enclosing them with quotation marks. So for example, we could write *sex = \"female\"*. \n",
    "\n"
   ]
  },
  {
   "cell_type": "code",
   "execution_count": null,
   "metadata": {},
   "outputs": [],
   "source": [
    "## Some kind of exercise involving variables"
   ]
  },
  {
   "cell_type": "markdown",
   "metadata": {},
   "source": [
    "# Getting hold of the raw materials: CSV files\n",
    "\n",
    "Data ultimately consists of variable-values. For example, you may have a list of the heights of all people in your class, a list of loudness estimates from football matches, a list of member of parliament members... All of these are **raw data**, because they list individual observations where each has a value out of the possible variable values.\n",
    "\n",
    "It is common practice to organise these observations such that each row represents one individual observation and every column represents a variable. For example, the first column may be \"id\". \n",
    "\n",
    "Below is an example of how we may organise data when the variables are id, age and physics grade. Note how the first row, called **headings**, *should* contain the variable names.\n",
    "\n",
    "| ID        | Age           | Physics grade  |\n",
    "| ------------- |:-------------:| -----:|\n",
    "| 1456      | 18 | \"A\" |\n",
    "| 1457      | 17      |   \"C\" |\n",
    "| 1458 | 17      |    \"B\" |\n",
    "\n",
    "### Why do you think we did quotation marks around the grades? Was it necessary to make IDs numerical?\n",
    "\n",
    "These lists must come from somewhere. Perhaps it was you who dutifully asked classmates for their ages or noted down Member of Parliament sexes and put them into an Excel sheet. Perhaps administration staff had already put it in a database and all you had to do was to extract it. **Either way, you must convert it into a filetype that Python knows how to read.**\n",
    "\n",
    "The easiest way to do this as follows:\n",
    "\n",
    "1. _Obtain the data as a **CSV** file_. CSV stands for *Comma-Separated Values* and if you open you will find that, instead of a neat table of columns, the columns are suggested by simple comma signs.\n",
    "2. _Put it into the directory of your Python script_ \n",
    "3. _Have the program read in that file_\n",
    "\n",
    "Without getting bogged down in the specifics, let's have a look at an example below."
   ]
  },
  {
   "cell_type": "code",
   "execution_count": null,
   "metadata": {},
   "outputs": [],
   "source": [
    "import pandas as pd  #Import a library full of relevant programs that will help you later on\n",
    "\n",
    "df = pd.read_csv(\"traffic_data_glasgow.csv\", sep=',')\n"
   ]
  },
  {
   "cell_type": "markdown",
   "metadata": {},
   "source": [
    "Let's parse this program. The file containing the data we wish to read in is *airport_data.csv* and it is indeed a csv, as shown by the extension. \n",
    "\n",
    "The code that we use to read the file is actually very complex and stored in other files called a library, but we can make use of it by simply loading in library (called pandas) and *call* its function, *read_csv( )*, into which we pass various specifications, such as the file name and the separator symbol.\n",
    "\n",
    "Try yourself! Read in a CSV file into Python - once through the portal, all kinds of magic can be done to it!"
   ]
  },
  {
   "cell_type": "code",
   "execution_count": null,
   "metadata": {},
   "outputs": [],
   "source": [
    "#remember to run the prior cell to make sure the library Pandas has been imported"
   ]
  },
  {
   "cell_type": "markdown",
   "metadata": {},
   "source": [
    "# Playing with tables in Python: Dataframes\n",
    "\n",
    "We create a variable into which we store all the data we read in. How is it stored? Well, it's not quite a string or number - the type of Python variables we have dealt with so far, but a Python *object* called a **dataframe**.\n",
    "\n",
    "A dataframe is, quite simply, a table. We can access its values, change its values, summarise its values. \n",
    "\n",
    "For starters, let us see which headers it has.\n",
    "\n",
    "In the case you just read in we have a huge dataframe with 10 000+ rows and many columns, amd we wouldn't want to print it as we might end up feeling lost in all those numbers. \n",
    "\n",
    "What we could do instead is see what the columns are, then perhaps see the first few rows. \n",
    "\n",
    "We are going to use the following: \n",
    "* df.columns: gives us the name of the columns\n",
    "\n",
    "* df.head(): gives us the first five rows\n",
    "\n",
    "These are functions where *df* is the name we gave our dataframe (this might be something else), and *.columns* is a property of the dataframe (thus no parantheses after it), while *.head()* is a **function**.\n",
    "\n",
    "These little magical expressions return a list. Unless we wrap it with a print-statement, that list will not be visible in our console. Have a go at it below.\n"
   ]
  },
  {
   "cell_type": "code",
   "execution_count": null,
   "metadata": {},
   "outputs": [],
   "source": [
    "#getting the columns of the dataframe\n",
    "print (df.columns)"
   ]
  },
  {
   "cell_type": "markdown",
   "metadata": {},
   "source": [
    "This function is very useful when we haven't seen the data file beforehand. Perhaps we just downloaded it on Internet and have no insight into its structure yet, or perhaps we couldn't remember the attribute (column) names. To remind yourself, print them out, and do remember that names are case-sensitive. \"Cars\" is *not* the same as \"cars\"."
   ]
  },
  {
   "cell_type": "code",
   "execution_count": null,
   "metadata": {},
   "outputs": [],
   "source": [
    "print (df.head())"
   ]
  },
  {
   "cell_type": "markdown",
   "metadata": {},
   "source": [
    "We may also want to show all the values in a particular column, for example all the ages in the Age variable. To do this, we simply need to plug the name into a pair of square brackets and join that to the dataframe. So for example, we could write *print(   df[\"Cars\"])* . Even now we use quotation marks around the variable name, since it is a string.\n",
    "\n",
    "### Try to print out all pedal cycles!"
   ]
  },
  {
   "cell_type": "code",
   "execution_count": null,
   "metadata": {},
   "outputs": [],
   "source": [
    "# Print out pedal cycles"
   ]
  },
  {
   "cell_type": "markdown",
   "metadata": {},
   "source": [
    "The list of values in an attribute that we just obtained has statistical properties just like any list. It may have a minimum number or a maximum number. To do that, we simply chain another function on top, simply named *.min()* and *.max()*.\n",
    "\n"
   ]
  },
  {
   "cell_type": "code",
   "execution_count": null,
   "metadata": {},
   "outputs": [],
   "source": [
    "print (df['Count points'].min())"
   ]
  },
  {
   "cell_type": "code",
   "execution_count": null,
   "metadata": {},
   "outputs": [],
   "source": [
    "print (df['Count points'].max())"
   ]
  },
  {
   "cell_type": "markdown",
   "metadata": {},
   "source": [
    "We printed out two values but those numbers don't really mean much. That's why it's useful to add meaningful print messages. In order to do this we need to cast those numbers to strings in order to concatenate them with some meaningful text. "
   ]
  },
  {
   "cell_type": "code",
   "execution_count": null,
   "metadata": {},
   "outputs": [],
   "source": [
    "print(str(df['Count points'].min()) + \" is the min number of count points\" )"
   ]
  },
  {
   "cell_type": "markdown",
   "metadata": {},
   "source": [
    "# Your turn:\n",
    "Based on the concepts covered so far, complete the following exercises. Sceleton code is provided below\n",
    "\n",
    "1. Retrieve the column where the cars stats are stored\n",
    "2. What's the minimum number of cars recorded over the years? \n",
    "3. What's the maximum number of cars recorded? \n",
    "\n"
   ]
  },
  {
   "cell_type": "code",
   "execution_count": null,
   "metadata": {},
   "outputs": [],
   "source": [
    "Note: make sure you add a meaningful print message when computing the min and max\n",
    "\n",
    "#create a variable where to store the column with header \"cars\"\n",
    "carsColumn = df[INSERT LABEL NAME HERE]\n",
    "\n",
    "#variable to store the min of cars\n",
    "carsMin = df['LABEL'].FUNCTION\n",
    "print()\n",
    "\n",
    "#variable to store the max of cars\n",
    "carsMax = df[LABEL].FUNCTION\n",
    "print()"
   ]
  }
 ],
 "metadata": {
  "kernelspec": {
   "display_name": "Python 3",
   "language": "python",
   "name": "python3"
  },
  "language_info": {
   "codemirror_mode": {
    "name": "ipython",
    "version": 3
   },
   "file_extension": ".py",
   "mimetype": "text/x-python",
   "name": "python",
   "nbconvert_exporter": "python",
   "pygments_lexer": "ipython3",
   "version": "3.6.5"
  }
 },
 "nbformat": 4,
 "nbformat_minor": 2
}
